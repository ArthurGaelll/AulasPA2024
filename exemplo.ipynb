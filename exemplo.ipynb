{
  "nbformat": 4,
  "nbformat_minor": 0,
  "metadata": {
    "colab": {
      "provenance": [],
      "authorship_tag": "ABX9TyPzz8f16eI7psKo+gWQ75Pg",
      "include_colab_link": true
    },
    "kernelspec": {
      "name": "python3",
      "display_name": "Python 3"
    },
    "language_info": {
      "name": "python"
    }
  },
  "cells": [
    {
      "cell_type": "markdown",
      "metadata": {
        "id": "view-in-github",
        "colab_type": "text"
      },
      "source": [
        "<a href=\"https://colab.research.google.com/github/ArthurGaelll/AulasPA2024/blob/main/exemplo.ipynb\" target=\"_parent\"><img src=\"https://colab.research.google.com/assets/colab-badge.svg\" alt=\"Open In Colab\"/></a>"
      ]
    },
    {
      "cell_type": "markdown",
      "source": [
        "# Operadores Aritmédicos"
      ],
      "metadata": {
        "id": "PMSop3-CJnYm"
      }
    },
    {
      "cell_type": "code",
      "source": [
        "n1=7\n",
        "n2=8\n",
        "n3=10"
      ],
      "metadata": {
        "id": "yggVfsAbJtgW"
      },
      "execution_count": null,
      "outputs": []
    },
    {
      "cell_type": "code",
      "source": [
        "media=(n1+n2+n3)/3"
      ],
      "metadata": {
        "id": "f0-DY0BMJ6Fu"
      },
      "execution_count": null,
      "outputs": []
    },
    {
      "cell_type": "code",
      "source": [
        "nome = input(\"Digite o seu nome:\")\n",
        "nome"
      ],
      "metadata": {
        "id": "5YJS5wsAST9-"
      },
      "execution_count": null,
      "outputs": []
    },
    {
      "cell_type": "code",
      "source": [
        "anonasce = int(input(\"Digite seu ano e nascimento:\" ))\n",
        "anonasce\n"
      ],
      "metadata": {
        "id": "fVRqvHWES63P"
      },
      "execution_count": null,
      "outputs": []
    },
    {
      "cell_type": "code",
      "source": [
        "idade = 2024 - anonasce\n",
        "idade"
      ],
      "metadata": {
        "id": "lPr9n6saTZku"
      },
      "execution_count": null,
      "outputs": []
    },
    {
      "cell_type": "code",
      "source": [
        "type(anonasce)"
      ],
      "metadata": {
        "id": "EtCikcjcU5Ih"
      },
      "execution_count": null,
      "outputs": []
    },
    {
      "cell_type": "code",
      "source": [
        "print(\"Sua média é\",round(media,1))"
      ],
      "metadata": {
        "id": "lD4o_1CUWWUt"
      },
      "execution_count": null,
      "outputs": []
    },
    {
      "cell_type": "code",
      "source": [
        "x = 7\n",
        "# obtendo o resto divisão de x por 2\n",
        "divisao_normal = x / 2\n",
        "resto = x % 2\n",
        "quociente  = x // 2\n",
        "\n",
        "\n",
        "print(\"Divisão Normal\",divisao_normal)\n",
        "print(\"Resto - mod %\",resto)\n",
        "print(\"Quociente - div //\",quociente)"
      ],
      "metadata": {
        "colab": {
          "base_uri": "https://localhost:8080/"
        },
        "id": "jYHf5ouqXNnp",
        "outputId": "58a4cce1-4a79-4946-b1df-1854fda79e9d"
      },
      "execution_count": 4,
      "outputs": [
        {
          "output_type": "stream",
          "name": "stdout",
          "text": [
            "Divisão Normal 3.5\n",
            "Resto - mod % 1\n",
            "Quociente - div // 3\n"
          ]
        }
      ]
    }
  ]
}